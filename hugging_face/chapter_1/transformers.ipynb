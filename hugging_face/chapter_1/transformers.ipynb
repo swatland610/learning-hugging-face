{
 "cells": [
  {
   "cell_type": "code",
   "execution_count": 5,
   "id": "797bded0-808b-496d-889a-054c52c9f75c",
   "metadata": {},
   "outputs": [],
   "source": [
    "from transformers import pipeline\n",
    "import torch"
   ]
  },
  {
   "cell_type": "code",
   "execution_count": 6,
   "id": "f67ec339-d806-44aa-ac24-703638eb55c6",
   "metadata": {},
   "outputs": [
    {
     "name": "stdout",
     "output_type": "stream",
     "text": [
      "Is MPS available? True\n",
      "Is MPS built? True\n",
      "mps:0\n"
     ]
    }
   ],
   "source": [
    "# Check if MPS is available and built\n",
    "print(f\"Is MPS available? {torch.backends.mps.is_available()}\")\n",
    "print(f\"Is MPS built? {torch.backends.mps.is_built()}\")\n",
    "\n",
    "# Set the device to MPS\n",
    "device = torch.device(\"mps:0\")\n",
    "\n",
    "# Create a tensor on the MPS device\n",
    "x = torch.ones(2, 2, device=device)\n",
    "\n",
    "# Verify the tensor is on the MPS device\n",
    "print(x.device)"
   ]
  },
  {
   "cell_type": "code",
   "execution_count": 11,
   "id": "f144b53e-633a-4d33-bdad-17847bfc1b73",
   "metadata": {},
   "outputs": [
    {
     "name": "stderr",
     "output_type": "stream",
     "text": [
      "Device set to use mps:0\n"
     ]
    },
    {
     "data": {
      "text/plain": [
       "[{'label': 'NEGATIVE', 'score': 0.9802212715148926}]"
      ]
     },
     "execution_count": 11,
     "metadata": {},
     "output_type": "execute_result"
    }
   ],
   "source": [
    "### simple classifier example example\n",
    "classifier = pipeline(\"sentiment-analysis\", model=\"distilbert-base-uncased-finetuned-sst-2-english\")\n",
    "classifier(\"I am struggling at bowling\")"
   ]
  },
  {
   "cell_type": "code",
   "execution_count": 24,
   "id": "c0f6f238-6034-4f7e-88fa-bb61d6abd705",
   "metadata": {},
   "outputs": [
    {
     "name": "stderr",
     "output_type": "stream",
     "text": [
      "Device set to use mps:0\n"
     ]
    },
    {
     "data": {
      "text/plain": [
       "{'sequence': 'I wish I had a dog',\n",
       " 'labels': ['sports', 'friendship', 'education', 'technology'],\n",
       " 'scores': [0.3118511438369751,\n",
       "  0.2600395083427429,\n",
       "  0.22393569350242615,\n",
       "  0.20417355000972748]}"
      ]
     },
     "execution_count": 24,
     "metadata": {},
     "output_type": "execute_result"
    }
   ],
   "source": [
    "# ZERO-SHOT CLASSIFICATION EXAMPLE\n",
    "classifier = pipeline(\"zero-shot-classification\", model='facebook/bart-large-mnli')\n",
    "classifier(\n",
    "    \"I wish I had a dog\",\n",
    "    candidate_labels=[\"education\", \"sports\", \"technology\", \"friendship\"],\n",
    ")"
   ]
  },
  {
   "cell_type": "code",
   "execution_count": 27,
   "id": "0888980e-d20f-422a-b3bf-fbdbfa52a83f",
   "metadata": {},
   "outputs": [
    {
     "name": "stderr",
     "output_type": "stream",
     "text": [
      "Device set to use mps:0\n",
      "Setting `pad_token_id` to `eos_token_id`:50256 for open-end generation.\n"
     ]
    },
    {
     "data": {
      "text/plain": [
       "[{'generated_text': 'I can get better at communicating with people by speaking to them on a daily basis, so if I have a problem with someone who I don\\'t know, I\\'m going to try to help them.\"\\n\\n\"I\\'m not going to tell you who you\\'re supposed to talk to because I would rather be happy than hurt. I\\'m not going to tell you how you\\'re supposed to talk to someone who doesn\\'t know you. I\\'m not going to talk to you on your phone because I think it\\'s annoying. I\\'d rather be busy and don\\'t have to worry about people\\'s emotions. I\\'m not going to tell you that I\\'m sorry for any of your problems because I\\'m not. I\\'m not going to tell you how you\\'re supposed to talk to somebody because I\\'m not.\"\\n\\n\"I\\'ll see to it that you understand that if you\\'d just tell me what you\\'re going to do, I would have you go and find out. I\\'m not going to give you anything to do with that.\"\\n\\nIn the end, though, his words helped him to find a job.\\n\\n\"I am here because I want to help you. You\\'re my best friend,\" he said. \"You would never get into that kind of trouble, never have to spend money on'}]"
      ]
     },
     "execution_count": 27,
     "metadata": {},
     "output_type": "execute_result"
    }
   ],
   "source": [
    "# TEXT GENERATION\n",
    "generator = pipeline(\"text-generation\", model='openai-community/gpt2')\n",
    "generator(\"I can get better at communicating with people by\")"
   ]
  },
  {
   "cell_type": "code",
   "execution_count": 29,
   "id": "794279d5-800b-4f5c-80d7-2eea36a7f1aa",
   "metadata": {},
   "outputs": [
    {
     "name": "stderr",
     "output_type": "stream",
     "text": [
      "Device set to use mps:0\n",
      "Setting `pad_token_id` to `eos_token_id`:0 for open-end generation.\n",
      "Both `max_new_tokens` (=256) and `max_length`(=30) seem to have been set. `max_new_tokens` will take precedence. Please refer to the documentation for more information. (https://huggingface.co/docs/transformers/main/en/main_classes/text_generation)\n"
     ]
    },
    {
     "data": {
      "text/plain": [
       "[{'generated_text': 'In this course, we will teach you how to code in a way that is both useful and accessible.\\xa0\\n\\nThis course is for beginners, who want to learn how to code for yourself. The course starts with an introduction to the basics of coding and then moves on to more advanced topics.\\n\\n\\nThe course covers:\\n\\n  • Intro to programming\\n  • Programming languages\\n  • Variables\\n  • Functions\\n  • Conditionals\\n  • Loops\\n\\n\\nIf you are already a programmer, then this course will help you learn how to use programming languages. If you are not familiar with programming, then this course can be a good way to learn the basics of programming.\\n\\nIf you are already a programmer, this course will teach you how to use different programming languages. If you are not familiar with programming, then this course can be a good way to learn the basics of programming.\\n\\nIf you are already a programmer, this course will teach you how to use different programming languages. If you are not familiar with programming, then this course can be a good way to learn the basics of programming.\\n\\nIf you are already a programmer, this course will teach you how to use different programming languages. If you are not familiar with programming, then this course can be a good way to learn the basics of programming'},\n",
       " {'generated_text': 'In this course, we will teach you how to use the language to do any tasks you want, like creating videos, games, and puzzles. You will learn how to work with images, sounds, and animations. It\\'s like having a superpower!\\n\\n**Step 2: Creating Your Character**\\n\\nIn this step, you will create a character that resembles the person you are studying. To do this, follow these instructions:\\n\\n* Find a device with internet access (a computer, tablet, or smartphone).\\n* Open a program called a desktop environment (e.g., Google Chrome, Mozilla Firefox).\\n* Type [www.giphy.com](http://www.giphy.com) into the address bar at the top of the screen.\\n* Click on the \"Search\" button or tap the magnifying glass icon.\\n* Type \"GIFs\" in the search bar and press Enter.\\n* Choose a GIF that represents your character – perhaps one with a smile, a confident expression, or a playful look.\\n* Right-click on the GIF and select \"Save As\" or press Ctrl+S on a keyboard to save it as a file.\\n* Save it somewhere convenient, like on your desktop or within a folder named after your character.'}]"
      ]
     },
     "execution_count": 29,
     "metadata": {},
     "output_type": "execute_result"
    }
   ],
   "source": [
    "### More Text Generation\n",
    "generator = pipeline(\"text-generation\", model=\"HuggingFaceTB/SmolLM2-360M\")\n",
    "generator(\n",
    "    \"In this course, we will teach you how to\",\n",
    "    max_length=30,\n",
    "    num_return_sequences=2,\n",
    "    truncation=True\n",
    ")"
   ]
  },
  {
   "cell_type": "code",
   "execution_count": null,
   "id": "edbac96f-9e16-4af9-8d59-45468614dca6",
   "metadata": {},
   "outputs": [],
   "source": []
  }
 ],
 "metadata": {
  "kernelspec": {
   "display_name": "Python 3 (ipykernel)",
   "language": "python",
   "name": "python3"
  },
  "language_info": {
   "codemirror_mode": {
    "name": "ipython",
    "version": 3
   },
   "file_extension": ".py",
   "mimetype": "text/x-python",
   "name": "python",
   "nbconvert_exporter": "python",
   "pygments_lexer": "ipython3",
   "version": "3.10.7"
  }
 },
 "nbformat": 4,
 "nbformat_minor": 5
}
